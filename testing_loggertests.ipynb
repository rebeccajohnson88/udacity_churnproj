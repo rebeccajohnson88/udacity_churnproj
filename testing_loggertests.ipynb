{
 "cells": [
  {
   "cell_type": "code",
   "execution_count": 5,
   "metadata": {},
   "outputs": [],
   "source": [
    "import os\n",
    "import logging\n",
    "import constants \n",
    "from constants import *\n",
    "import churn_library\n",
    "from churn_library import *\n",
    "\n"
   ]
  },
  {
   "cell_type": "code",
   "execution_count": null,
   "metadata": {},
   "outputs": [],
   "source": [
    "def test_import(import_data):\n",
    "    '''\n",
    "    test data import \n",
    "    '''\n",
    "    try:\n",
    "        df = import_data(PATH_DATA)\n",
    "        logging.info(\"Testing import_data: SUCCESS\")\n",
    "    except FileNotFoundError as err:\n",
    "        logging.error(\"Testing import_eda: The file wasn't found\")\n",
    "        raise err\n",
    "\n",
    "    try:\n",
    "        assert df.shape[0] > 0\n",
    "        assert df.shape[1] > 0\n",
    "    except AssertionError as err:\n",
    "        logging.error(\"Testing import_data: The file doesn't appear to have rows and columns\")\n",
    "        raise err\n"
   ]
  },
  {
   "cell_type": "code",
   "execution_count": 4,
   "metadata": {},
   "outputs": [],
   "source": [
    "def test_eda(perform_eda):\n",
    "    '''\n",
    "    test perform eda function\n",
    "    '''\n",
    "    try:\n",
    "        assert os.path.isdir(PATH_EDA_FIGS)\n",
    "        logging.info(\"SUCCESS directory for images exists\")\n",
    "    except AssertionError as err:\n",
    "        logging.error(\"ERROR inputted image directory does not exist\")\n",
    "        raise err\n",
    "    try:\n",
    "        assert len(features) > 0\n",
    "        logging.info(\"SUCCESS some features for EDA\")\n",
    "    except AssertionError as err:\n",
    "        logging.error(\"ERROR no features for EDA\")\n",
    "        raise err\n"
   ]
  },
  {
   "cell_type": "code",
   "execution_count": null,
   "metadata": {},
   "outputs": [],
   "source": [
    "\n",
    "def test_encoder_helper(encoder_helper):\n",
    "    '''\n",
    "    test encoder helper\n",
    "    '''\n",
    "    pass\n",
    "\n",
    "\n",
    "def test_perform_feature_engineering(perform_feature_engineering):\n",
    "    '''\n",
    "    test perform_feature_engineering\n",
    "    '''\n",
    "\n",
    "\n",
    "def test_train_models(train_models):\n",
    "    '''\n",
    "    test train_models\n",
    "    '''\n",
    "\n",
    "\n",
    "if __name__ == \"__main__\":\n",
    "    logging.basicConfig(\n",
    "    filename=PATH_LOGFILE,\n",
    "    level = logging.INFO,\n",
    "    filemode='w',\n",
    "    format='%(name)s - %(levelname)s - %(message)s')\n",
    "    test_import(import_data)\n",
    "    test_eda(perform_eda)\n"
   ]
  }
 ],
 "metadata": {
  "kernelspec": {
   "display_name": "Python 3",
   "language": "python",
   "name": "python3"
  },
  "language_info": {
   "codemirror_mode": {
    "name": "ipython",
    "version": 3
   },
   "file_extension": ".py",
   "mimetype": "text/x-python",
   "name": "python",
   "nbconvert_exporter": "python",
   "pygments_lexer": "ipython3",
   "version": "3.8.3"
  }
 },
 "nbformat": 4,
 "nbformat_minor": 4
}
